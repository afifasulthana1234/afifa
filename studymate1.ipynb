{
  "nbformat": 4,
  "nbformat_minor": 0,
  "metadata": {
    "colab": {
      "provenance": [],
      "include_colab_link": true
    },
    "kernelspec": {
      "name": "python3",
      "display_name": "Python 3"
    },
    "language_info": {
      "name": "python"
    }
  },
  "cells": [
    {
      "cell_type": "markdown",
      "metadata": {
        "id": "view-in-github",
        "colab_type": "text"
      },
      "source": [
        "<a href=\"https://colab.research.google.com/github/afifasulthana1234/afifa/blob/main/studymate1.ipynb\" target=\"_parent\"><img src=\"https://colab.research.google.com/assets/colab-badge.svg\" alt=\"Open In Colab\"/></a>"
      ]
    },
    {
      "cell_type": "code",
      "source": [
        "!pip install faiss-cpu sentence-transformers PyMuPDF reportlab transformers ipywidgets\n"
      ],
      "metadata": {
        "id": "lEk8CoGDPJ8J"
      },
      "execution_count": null,
      "outputs": []
    },
    {
      "cell_type": "code",
      "source": [
        "from reportlab.lib.pagesizes import letter\n",
        "from reportlab.pdfgen import canvas\n",
        "\n",
        "pdf_filename = \"sample_study.pdf\"\n",
        "c = canvas.Canvas(pdf_filename, pagesize=letter)\n",
        "c.setFont(\"Times-Roman\", 12)\n",
        "\n",
        "lines = [\n",
        "    \"The History of Artificial Intelligence\",\n",
        "    \"\",\n",
        "    \"Artificial Intelligence (AI) is the simulation of human intelligence in machines.\",\n",
        "    \"Key Milestones:\",\n",
        "    \"- 1956: The term 'Artificial Intelligence' was first coined at the Dartmouth Conference.\",\n",
        "    \"- 1997: IBM's Deep Blue defeated world chess champion Garry Kasparov.\",\n",
        "    \"- 2011: IBM Watson won the quiz show Jeopardy! against human champions.\",\n",
        "    \"- 2023: Large Language Models like ChatGPT and Mistral became widely used.\",\n",
        "    \"\",\n",
        "    \"Applications of AI include NLP, computer vision, robotics, healthcare, finance, and education.\"\n",
        "]\n",
        "\n",
        "text_object = c.beginText(100, 750)\n",
        "for line in lines:\n",
        "    text_object.textLine(line)\n",
        "c.drawText(text_object)\n",
        "c.save()\n",
        "\n",
        "print(\"✅ Dummy study PDF created:\", pdf_filename)\n"
      ],
      "metadata": {
        "id": "uRhlw7N9PWzi"
      },
      "execution_count": null,
      "outputs": []
    },
    {
      "cell_type": "code",
      "source": [
        "import fitz\n",
        "import faiss\n",
        "import numpy as np\n",
        "from sentence_transformers import SentenceTransformer\n",
        "\n",
        "# Extract text\n",
        "def extract_text_from_pdf(pdf_path):\n",
        "    doc = fitz.open(pdf_path)\n",
        "    text = \"\"\n",
        "    for page in doc:\n",
        "        text += page.get_text()\n",
        "    return text\n",
        "\n",
        "def chunk_text(text, chunk_size=300, overlap=50):\n",
        "    words = text.split()\n",
        "    chunks = []\n",
        "    i = 0\n",
        "    while i < len(words):\n",
        "        chunk = words[i:i+chunk_size]\n",
        "        chunks.append(\" \".join(chunk))\n",
        "        i += chunk_size - overlap\n",
        "    return chunks\n",
        "\n",
        "pdf_text = extract_text_from_pdf(\"sample_study.pdf\")\n",
        "chunks = chunk_text(pdf_text)\n",
        "print(\"✅ Number of chunks:\", len(chunks))\n",
        "\n",
        "# Build FAISS\n",
        "embedder = SentenceTransformer(\"all-MiniLM-L6-v2\")\n",
        "embeddings = embedder.encode(chunks, convert_to_numpy=True)\n",
        "\n",
        "dimension = embeddings.shape[1]\n",
        "index = faiss.IndexFlatL2(dimension)\n",
        "index.add(embeddings)\n",
        "\n",
        "print(\"✅ FAISS index ready with\", index.ntotal, \"chunks\")\n"
      ],
      "metadata": {
        "id": "WFEsVtRfPbo_"
      },
      "execution_count": null,
      "outputs": []
    },
    {
      "cell_type": "code",
      "source": [
        "from transformers import pipeline\n",
        "import ipywidgets as widgets\n",
        "from IPython.display import display, Markdown\n",
        "\n",
        "qa_model = pipeline(\"text2text-generation\", model=\"google/flan-t5-base\")\n",
        "\n",
        "# Text input box\n",
        "question_box = widgets.Text(\n",
        "    value=\"\",\n",
        "    placeholder=\"Type your question here\",\n",
        "    description=\"Question:\",\n",
        "    layout=widgets.Layout(width=\"100%\")\n",
        ")\n",
        "\n",
        "output_box = widgets.Output()\n",
        "\n",
        "def answer_question(change):\n",
        "    output_box.clear_output()\n",
        "    query = change[\"new\"]\n",
        "    if query.strip() == \"\":\n",
        "        return\n",
        "\n",
        "    q_emb = embedder.encode([query], convert_to_numpy=True)\n",
        "    distances, indices = index.search(q_emb, 3)\n",
        "    retrieved = [chunks[i] for i in indices[0]]\n",
        "    context = \"\\n\".join(retrieved)\n",
        "\n",
        "    prompt = f\"Context: {context}\\n\\nQuestion: {query}\\nAnswer:\"\n",
        "    answer = qa_model(prompt, max_length=200)[0][\"generated_text\"]\n",
        "\n",
        "    with output_box:\n",
        "        display(Markdown(f\"### 📖 Answer:\\n{answer}\"))\n",
        "        print(\"\\n📌 References:\")\n",
        "        for ref in retrieved:\n",
        "            print(\"-\", ref[:200], \"...\")\n",
        "\n",
        "question_box.observe(answer_question, names=\"value\")\n",
        "display(question_box, output_box)\n"
      ],
      "metadata": {
        "id": "ggyTXYAiPpby"
      },
      "execution_count": null,
      "outputs": []
    },
    {
      "cell_type": "code",
      "source": [
        "import ipywidgets as widgets\n",
        "from IPython.display import display, Markdown\n",
        "\n",
        "# Input text box\n",
        "question_box = widgets.Text(\n",
        "    value=\"\",\n",
        "    placeholder=\"Type your question here\",\n",
        "    description=\"Question:\",\n",
        "    layout=widgets.Layout(width=\"70%\")\n",
        ")\n",
        "\n",
        "# Submit button\n",
        "ask_button = widgets.Button(\n",
        "    description=\"Ask\",\n",
        "    button_style=\"info\",\n",
        "    tooltip=\"Click to get answer\",\n",
        "    icon=\"search\"\n",
        ")\n",
        "\n",
        "# Output area\n",
        "output_box = widgets.Output()\n",
        "\n",
        "def on_button_click(b):\n",
        "    query = question_box.value.strip()\n",
        "    if query == \"\":\n",
        "        return\n",
        "\n",
        "    # Search in FAISS\n",
        "    q_emb = embedder.encode([query], convert_to_numpy=True)\n",
        "    distances, indices = index.search(q_emb, 3)\n",
        "    retrieved = [chunks[i] for i in indices[0]]\n",
        "    context = \"\\n\".join(retrieved)\n",
        "\n",
        "    # Generate answer\n",
        "    prompt = f\"Context: {context}\\n\\nQuestion: {query}\\nAnswer:\"\n",
        "    answer = qa_model(prompt, max_length=200)[0][\"generated_text\"]\n",
        "\n",
        "    # Show answer\n",
        "    with output_box:\n",
        "        display(Markdown(f\"### ❓ Question: {query}\"))\n",
        "        display(Markdown(f\"### 📖 Answer:\\n{answer}\"))\n",
        "        print(\"\\n📌 References:\")\n",
        "        for ref in retrieved:\n",
        "            print(\"-\", ref[:200], \"...\")\n",
        "\n",
        "    # Reset question box for next input\n",
        "    question_box.value = \"\"\n",
        "\n",
        "ask_button.on_click(on_button_click)\n",
        "\n",
        "# Display UI\n",
        "display(question_box, ask_button, output_box)\n"
      ],
      "metadata": {
        "id": "rsOyXLUXTsBH"
      },
      "execution_count": null,
      "outputs": []
    }
  ]
}